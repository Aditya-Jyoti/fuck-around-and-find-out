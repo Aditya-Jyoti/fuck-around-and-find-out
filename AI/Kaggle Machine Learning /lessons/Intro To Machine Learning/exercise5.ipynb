{
 "cells": [
  {
   "cell_type": "code",
   "execution_count": 2,
   "metadata": {},
   "outputs": [],
   "source": [
    "import pandas as pd\n",
    "\n",
    "from sklearn.model_selection import train_test_split\n",
    "\n",
    "dataset = pd.read_csv(\"../../datasets/melb_data.csv\")\n",
    "\n",
    "prediction_target = dataset.Price # y\n",
    "\n",
    "predictive_features = [\"Rooms\", \"Bathroom\", \"Bedroom2\", \"Landsize\", \"BuildingArea\", \"YearBuilt\", \"Lattitude\", \"Longtitude\"]\n",
    "predictive_features = dataset[predictive_features] # x\n",
    "\n",
    "\n",
    "training_features, validation_features, training_target, validation_target = (\n",
    "    train_test_split(predictive_features, prediction_target, random_state=1)\n",
    ")\n"
   ]
  },
  {
   "cell_type": "code",
   "execution_count": 5,
   "metadata": {},
   "outputs": [
    {
     "name": "stdout",
     "output_type": "stream",
     "text": [
      "Validation MAE for Random Forest Model: 173011.20846309932\n"
     ]
    }
   ],
   "source": [
    "from sklearn.ensemble import RandomForestRegressor\n",
    "from sklearn.metrics import mean_absolute_error\n",
    "\n",
    "rf_model = RandomForestRegressor(random_state=1)\n",
    "\n",
    "rf_model.fit(training_features, training_target)\n",
    "\n",
    "rf_val_mae = mean_absolute_error(validation_target, rf_model.predict(validation_features))\n",
    "\n",
    "print(\"Validation MAE for Random Forest Model: {}\".format(rf_val_mae))"
   ]
  }
 ],
 "metadata": {
  "kernelspec": {
   "display_name": ".venv",
   "language": "python",
   "name": "python3"
  },
  "language_info": {
   "codemirror_mode": {
    "name": "ipython",
    "version": 3
   },
   "file_extension": ".py",
   "mimetype": "text/x-python",
   "name": "python",
   "nbconvert_exporter": "python",
   "pygments_lexer": "ipython3",
   "version": "3.12.3"
  }
 },
 "nbformat": 4,
 "nbformat_minor": 2
}
