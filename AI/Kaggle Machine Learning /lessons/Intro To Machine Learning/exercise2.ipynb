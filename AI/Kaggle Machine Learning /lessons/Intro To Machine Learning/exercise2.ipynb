{
 "cells": [
  {
   "cell_type": "code",
   "execution_count": 2,
   "metadata": {},
   "outputs": [
    {
     "name": "stdout",
     "output_type": "stream",
     "text": [
      "Index(['Suburb', 'Address', 'Rooms', 'Type', 'Price', 'Method', 'SellerG',\n",
      "       'Date', 'Distance', 'Postcode', 'Bedroom2', 'Bathroom', 'Car',\n",
      "       'Landsize', 'BuildingArea', 'YearBuilt', 'CouncilArea', 'Lattitude',\n",
      "       'Longtitude', 'Regionname', 'Propertycount'],\n",
      "      dtype='object')\n"
     ]
    }
   ],
   "source": [
    "import pandas as pd\n",
    "\n",
    "dataset = pd.read_csv(\"../../datasets/melb_data.csv\")\n",
    "\n",
    "print(dataset.columns)"
   ]
  },
  {
   "cell_type": "code",
   "execution_count": 5,
   "metadata": {},
   "outputs": [
    {
     "name": "stdout",
     "output_type": "stream",
     "text": [
      "   Rooms  Bathroom  Bedroom2  Landsize  BuildingArea  YearBuilt  Lattitude  \\\n",
      "0      2       1.0       2.0     202.0           NaN        NaN   -37.7996   \n",
      "1      2       1.0       2.0     156.0          79.0     1900.0   -37.8079   \n",
      "2      3       2.0       3.0     134.0         150.0     1900.0   -37.8093   \n",
      "3      3       2.0       3.0      94.0           NaN        NaN   -37.7969   \n",
      "4      4       1.0       3.0     120.0         142.0     2014.0   -37.8072   \n",
      "\n",
      "   Longtitude  \n",
      "0    144.9984  \n",
      "1    144.9934  \n",
      "2    144.9944  \n",
      "3    144.9969  \n",
      "4    144.9941  \n"
     ]
    }
   ],
   "source": [
    "prediction_target = dataset.Price # y\n",
    "\n",
    "predictive_features = [\"Rooms\", \"Bathroom\", \"Bedroom2\", \"Landsize\", \"BuildingArea\", \"YearBuilt\", \"Lattitude\", \"Longtitude\"]\n",
    "predictive_features = dataset[predictive_features] # x\n",
    "\n",
    "print(predictive_features.head())"
   ]
  },
  {
   "cell_type": "code",
   "execution_count": 7,
   "metadata": {},
   "outputs": [
    {
     "name": "stdout",
     "output_type": "stream",
     "text": [
      "[1200000. 1035000. 1465000.  850000. 1600000.]\n",
      "[1200000. 1035000. 1465000. ... 1170000. 2500000. 1285000.]\n"
     ]
    }
   ],
   "source": [
    "from sklearn.tree import DecisionTreeRegressor\n",
    "\n",
    "model = DecisionTreeRegressor(random_state=1)\n",
    "model.fit(predictive_features, prediction_target)\n",
    "\n",
    "head_predictions = model.predict(predictive_features.head())\n",
    "print(head_predictions)\n",
    "\n",
    "total_predictions = model.predict(predictive_features)\n",
    "print(total_predictions)"
   ]
  },
  {
   "cell_type": "code",
   "execution_count": 12,
   "metadata": {},
   "outputs": [
    {
     "name": "stdout",
     "output_type": "stream",
     "text": [
      "0    1480000.0\n",
      "1    1035000.0\n",
      "2    1465000.0\n",
      "3     850000.0\n",
      "4    1600000.0\n",
      "Name: Price, dtype: float64\n"
     ]
    }
   ],
   "source": [
    "print(dataset.head()[\"Price\"])"
   ]
  }
 ],
 "metadata": {
  "kernelspec": {
   "display_name": ".venv",
   "language": "python",
   "name": "python3"
  },
  "language_info": {
   "codemirror_mode": {
    "name": "ipython",
    "version": 3
   },
   "file_extension": ".py",
   "mimetype": "text/x-python",
   "name": "python",
   "nbconvert_exporter": "python",
   "pygments_lexer": "ipython3",
   "version": "3.12.3"
  }
 },
 "nbformat": 4,
 "nbformat_minor": 2
}
